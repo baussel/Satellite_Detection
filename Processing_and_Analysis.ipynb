{
  "nbformat": 4,
  "nbformat_minor": 0,
  "metadata": {
    "kernelspec": {
      "display_name": "Python 3",
      "language": "python",
      "name": "python3"
    },
    "language_info": {
      "codemirror_mode": {
        "name": "ipython",
        "version": 3
      },
      "file_extension": ".py",
      "mimetype": "text/x-python",
      "name": "python",
      "nbconvert_exporter": "python",
      "pygments_lexer": "ipython3",
      "version": "3.8.5"
    },
    "colab": {
      "name": "Processing_and_Analysis.ipynb",
      "provenance": [],
      "collapsed_sections": [
        "EgCN2rCRl2K2",
        "0wYf_o_vmVdV"
      ],
      "include_colab_link": true
    }
  },
  "cells": [
    {
      "cell_type": "markdown",
      "metadata": {
        "id": "view-in-github",
        "colab_type": "text"
      },
      "source": [
        "<a href=\"https://colab.research.google.com/github/baussel/Satellite_Detection/blob/main/Processing_and_Analysis.ipynb\" target=\"_parent\"><img src=\"https://colab.research.google.com/assets/colab-badge.svg\" alt=\"Open In Colab\"/></a>"
      ]
    },
    {
      "cell_type": "markdown",
      "metadata": {
        "id": "7Y7J1GL-lr9i"
      },
      "source": [
        "# Postprocessing and Analysis of Results\n",
        "\n",
        "\n",
        "\n",
        "---\n",
        "\n",
        "\n",
        "*Ben Aussel, September 2021, ESA*\n",
        "\n",
        "\n",
        "---\n",
        "\n"
      ]
    },
    {
      "cell_type": "markdown",
      "metadata": {
        "id": "EgCN2rCRl2K2"
      },
      "source": [
        "## Google Drive & Modules"
      ]
    },
    {
      "cell_type": "code",
      "metadata": {
        "colab": {
          "base_uri": "https://localhost:8080/"
        },
        "id": "OdQxgQOvlnUK",
        "outputId": "b54e81ca-d36f-4303-9da7-9b5642e53ab3"
      },
      "source": [
        "#Mount Google Drive with this Colab\n",
        "from google.colab import drive\n",
        "drive.mount('/content/drive', force_remount=True)"
      ],
      "execution_count": 1,
      "outputs": [
        {
          "output_type": "stream",
          "name": "stdout",
          "text": [
            "Mounted at /content/drive\n"
          ]
        }
      ]
    },
    {
      "cell_type": "code",
      "metadata": {
        "id": "pWUb_aJ2lkHt"
      },
      "source": [
        "#Modules\n",
        "from PIL import Image\n",
        "import PIL\n",
        "import os\n",
        "import numpy as np\n",
        "import pandas as pd\n",
        "import glob\n",
        "import json\n",
        "from shutil import copyfile\n",
        "from tqdm import tqdm\n",
        "import matplotlib.pyplot as plt\n",
        "%matplotlib inline"
      ],
      "execution_count": 2,
      "outputs": []
    },
    {
      "cell_type": "markdown",
      "metadata": {
        "id": "0wYf_o_vmVdV"
      },
      "source": [
        "## Data post-processing"
      ]
    },
    {
      "cell_type": "markdown",
      "metadata": {
        "id": "5OVw9xSymnY7"
      },
      "source": [
        "### ACS"
      ]
    },
    {
      "cell_type": "markdown",
      "metadata": {
        "id": "IomvDGubm4Lk"
      },
      "source": [
        "#### All Images"
      ]
    },
    {
      "cell_type": "code",
      "metadata": {
        "id": "Naykhgmdm_n2",
        "outputId": "b690433e-60cf-4b1f-d246-b6d42ace2160"
      },
      "source": [
        "#Get filenames after deleting\n",
        "filenames = glob.glob(\"/content/drive/MyDrive/ESA/Data/Hubble_Images/Raw/ACS_Comp_Raw/*\")\n",
        "for i in range(len(filenames)):\n",
        "    filenames[i] = filenames[i].replace(\"/content/drive/MyDrive/ESA/Data/Hubble_Images/Raw/ACS_Comp_Raw\",\"\")\n",
        "data_satellites = pd.DataFrame(filenames,columns=[\"filename\"])\n",
        "print(data_satellites)\n",
        "data_satellites.to_csv(\"/content/drive/MyDrive/ESA/Data/Hubble_Images/Raw/all_ACS.csv\")"
      ],
      "execution_count": null,
      "outputs": [
        {
          "name": "stdout",
          "output_type": "stream",
          "text": [
            "                      filename\n",
            "0      j59l54010_j59l54geq.jpg\n",
            "1      j59l54010_j59l54ghq.jpg\n",
            "2      j59l54010_j59l54gjq.jpg\n",
            "3      j59l54010_j59l54grq.jpg\n",
            "4      j59l54010_j59l54gwq.jpg\n",
            "...                        ...\n",
            "78205  jegr01010_jegr01pzq.jpg\n",
            "78206  jegr01010_jegr01q1q.jpg\n",
            "78207  jegr01010_jegr01q3q.jpg\n",
            "78208  jehc75010_jehc75pwq.jpg\n",
            "78209  jehc75010_jehc75q1q.jpg\n",
            "\n",
            "[78210 rows x 1 columns]\n"
          ]
        }
      ]
    },
    {
      "cell_type": "code",
      "metadata": {
        "id": "Wtz11iq5m_n4",
        "outputId": "e84a6e4f-6fee-448f-a685-1ef003620399"
      },
      "source": [
        "results = []\n",
        "for i in tqdm(range(len(data_satellites))):\n",
        "    row = data_satellites[i:i+1]\n",
        "    name = row[\"filename\"].to_numpy()[0].split(\".\")[0]\n",
        "    obs_id, raw_id = name.split(\"_\")[0], name.split(\"_\")[1]\n",
        "    data_row = data_ACS.loc[data_ACS[\"observation_id\"]==raw_id]\n",
        "    data_row[\"composite_id\"] = obs_id\n",
        "    results.append(data_row)\n",
        "data_result = pd.concat(results)\n",
        "data_result.to_csv(\"/content/drive/MyDrive/ESA/Data/Hubble_Images/Raw/all_ACS_params.csv\")"
      ],
      "execution_count": null,
      "outputs": [
        {
          "name": "stderr",
          "output_type": "stream",
          "text": [
            "  0%|                                                                                        | 0/78210 [00:00<?, ?it/s]<ipython-input-18-e33c7287f418>:7: SettingWithCopyWarning: \n",
            "A value is trying to be set on a copy of a slice from a DataFrame.\n",
            "Try using .loc[row_indexer,col_indexer] = value instead\n",
            "\n",
            "See the caveats in the documentation: https://pandas.pydata.org/pandas-docs/stable/user_guide/indexing.html#returning-a-view-versus-a-copy\n",
            "  data_row[\"composite_id\"] = obs_id\n",
            "100%|███████████████████████████████████████████████████████████████████████████| 78210/78210 [09:48<00:00, 132.89it/s]\n"
          ]
        }
      ]
    },
    {
      "cell_type": "markdown",
      "metadata": {
        "id": "8bY_z1cam1S8"
      },
      "source": [
        "#### Images with satellite trails"
      ]
    },
    {
      "cell_type": "code",
      "metadata": {
        "id": "vEz2ISDwlkH4",
        "outputId": "b9c998d2-81b9-455d-81be-78177cd5221d"
      },
      "source": [
        "#Get filenames after deleting\n",
        "filenames = glob.glob(\"/content/drive/MyDrive/ESA/Results/processed/ACS/*\")\n",
        "for i in range(len(filenames)):\n",
        "    filenames[i] = filenames[i].replace(\"/content/drive/MyDrive/ESA/Results/processed/ACS\\\\\",\"\")\n",
        "data_satellites = pd.DataFrame(filenames,columns=[\"filename\"])\n",
        "print(data_satellites)\n",
        "data_satellites.to_csv(\"/content/drive/MyDrive/ESA/Results/processed/satellites_ACS_processed.csv\")"
      ],
      "execution_count": null,
      "outputs": [
        {
          "name": "stdout",
          "output_type": "stream",
          "text": [
            "                     filename\n",
            "0     j6fl1e010_j6fl1elvq.jpg\n",
            "1     j6fl23010_j6fl23pyq.jpg\n",
            "2     j6fl6c010_j6fl6cilq.jpg\n",
            "3     j6fl6x020_j6fl6xfuq.jpg\n",
            "4     j6fl7b010_j6fl7bpoq.jpg\n",
            "...                       ...\n",
            "2573  jeex02020_jeex02qaq.jpg\n",
            "2574  jeex02020_jeex02rvq.jpg\n",
            "2575  jeex03010_jeex03p8q.jpg\n",
            "2576  jeex03010_jeex03puq.jpg\n",
            "2577  jeexa4010_jeexa4idq.jpg\n",
            "\n",
            "[2578 rows x 1 columns]\n"
          ]
        }
      ]
    },
    {
      "cell_type": "code",
      "metadata": {
        "id": "vMqhYBgNlkH6",
        "outputId": "3d8cb80d-2363-43b2-ff9f-352b44e5d76e"
      },
      "source": [
        "results = []\n",
        "for i in tqdm(range(len(data_satellites))):\n",
        "    row = data_satellites[i:i+1]\n",
        "    name = row[\"filename\"].to_numpy()[0].split(\".\")[0]\n",
        "    obs_id, raw_id = name.split(\"_\")[0], name.split(\"_\")[1]\n",
        "    data_row = data_ACS.loc[data_ACS[\"observation_id\"]==raw_id]\n",
        "    data_row[\"composite_id\"] = obs_id\n",
        "    results.append(data_row)\n",
        "data_result = pd.concat(results)\n",
        "data_result.to_csv(\"/content/drive/MyDrive/ESA/Results/processed/satellites_ACS_processed_params.csv\")"
      ],
      "execution_count": null,
      "outputs": [
        {
          "name": "stderr",
          "output_type": "stream",
          "text": [
            "  0%|                                                                                         | 0/2578 [00:00<?, ?it/s]<ipython-input-24-be660f706a59>:7: SettingWithCopyWarning: \n",
            "A value is trying to be set on a copy of a slice from a DataFrame.\n",
            "Try using .loc[row_indexer,col_indexer] = value instead\n",
            "\n",
            "See the caveats in the documentation: https://pandas.pydata.org/pandas-docs/stable/user_guide/indexing.html#returning-a-view-versus-a-copy\n",
            "  data_row[\"composite_id\"] = obs_id\n",
            "100%|█████████████████████████████████████████████████████████████████████████████| 2578/2578 [00:19<00:00, 132.50it/s]\n"
          ]
        }
      ]
    },
    {
      "cell_type": "markdown",
      "metadata": {
        "id": "_IZcF-t-mrDV"
      },
      "source": [
        "### WFC3/UVIS"
      ]
    },
    {
      "cell_type": "markdown",
      "metadata": {
        "id": "zXn308iKm6ev"
      },
      "source": [
        "#### All Images"
      ]
    },
    {
      "cell_type": "code",
      "metadata": {
        "id": "Uwx2R2eulkH7",
        "outputId": "6151b13b-e2d3-43e4-a370-dd4824e68542"
      },
      "source": [
        "#Get filenames after deleting\n",
        "filenames = glob.glob(\"/content/drive/MyDrive/ESA/Data/Hubble_Images/Raw/WFC3_UVIS_Comp_Raw/*\")\n",
        "for i in range(len(filenames)):\n",
        "    filenames[i] = filenames[i].replace(\"/content/drive/MyDrive/ESA/Data/Hubble_Images/Raw/WFC3_UVIS_Comp_Raw\\\\\",\"\")\n",
        "data_satellites = pd.DataFrame(filenames,columns=[\"filename\"])\n",
        "print(data_satellites)\n",
        "data_satellites.to_csv(\"/content/drive/MyDrive/ESA/Data/Hubble_Images/Raw/all_WFC3.csv\")"
      ],
      "execution_count": null,
      "outputs": [
        {
          "name": "stdout",
          "output_type": "stream",
          "text": [
            "                      filename\n",
            "0      ia2l51030_ia2l51ukq.jpg\n",
            "1      ia2l51030_ia2l51urq.jpg\n",
            "2      ia2l51030_ia2l51uwq.jpg\n",
            "3      ia2l52030_ia2l52srq.jpg\n",
            "4      ia2l52030_ia2l52svq.jpg\n",
            "...                        ...\n",
            "61514  iejc02010_iejc02kpq.jpg\n",
            "61515  iejc02010_iejc02kqq.jpg\n",
            "61516  iejc02010_iejc02krq.jpg\n",
            "61517  iejc02010_iejc02ksq.jpg\n",
            "61518  iejc02010_iejc02ktq.jpg\n",
            "\n",
            "[61519 rows x 1 columns]\n"
          ]
        }
      ]
    },
    {
      "cell_type": "code",
      "metadata": {
        "id": "ipeQduKVlkH8",
        "outputId": "fccea758-0965-424d-b83f-ed7a9d04d1bf"
      },
      "source": [
        "results = []\n",
        "for i in tqdm(range(len(data_satellites))):\n",
        "    row = data_satellites[i:i+1]\n",
        "    name = row[\"filename\"].to_numpy()[0].split(\".\")[0]\n",
        "    obs_id, raw_id = name.split(\"_\")[0], name.split(\"_\")[1]\n",
        "    data_row = data_WFC3_UVIS.loc[data_WFC3_UVIS[\"observation_id\"]==raw_id]\n",
        "    data_row[\"composite_id\"] = obs_id\n",
        "    results.append(data_row)\n",
        "data_result = pd.concat(results)\n",
        "data_result.to_csv(\"/content/drive/MyDrive/ESA/Data/Hubble_Images/Raw/all_WFC3_params.csv\")"
      ],
      "execution_count": null,
      "outputs": [
        {
          "name": "stderr",
          "output_type": "stream",
          "text": [
            "  0%|                                                                                        | 0/61519 [00:00<?, ?it/s]<ipython-input-20-68dd9fe9c197>:7: SettingWithCopyWarning: \n",
            "A value is trying to be set on a copy of a slice from a DataFrame.\n",
            "Try using .loc[row_indexer,col_indexer] = value instead\n",
            "\n",
            "See the caveats in the documentation: https://pandas.pydata.org/pandas-docs/stable/user_guide/indexing.html#returning-a-view-versus-a-copy\n",
            "  data_row[\"composite_id\"] = obs_id\n",
            "100%|███████████████████████████████████████████████████████████████████████████| 61519/61519 [07:16<00:00, 141.04it/s]\n"
          ]
        }
      ]
    },
    {
      "cell_type": "markdown",
      "metadata": {
        "id": "k0f32ESmm6ew"
      },
      "source": [
        "#### Images with satellite trails"
      ]
    },
    {
      "cell_type": "code",
      "metadata": {
        "id": "viaFkZqRlkH3",
        "outputId": "31b7cc6a-3ed7-4148-b36a-3665fe3f134c"
      },
      "source": [
        "#Get filenames after deleting\n",
        "filenames = glob.glob(\"/content/drive/MyDrive/ESA/Results/processed/WFC3/*\")\n",
        "for i in range(len(filenames)):\n",
        "    filenames[i] = filenames[i].replace(\"/content/drive/MyDrive/ESA/Results/processed/WFC3\\\\\",\"\")\n",
        "data_satellites = pd.DataFrame(filenames,columns=[\"filename\"])\n",
        "print(data_satellites)\n",
        "data_satellites.to_csv(\"/content/drive/MyDrive/ESA/Results/processed/satellites_WFC3_processed.csv\")"
      ],
      "execution_count": null,
      "outputs": [
        {
          "name": "stdout",
          "output_type": "stream",
          "text": [
            "                    filename\n",
            "0    ib1f31020_ib1f31e9q.jpg\n",
            "1    ib1f32020_ib1f32uzq.jpg\n",
            "2    ib1f33010_ib1f33q8q.jpg\n",
            "3    ib1f35010_ib1f35igq.jpg\n",
            "4    ib1f36030_ib1f36aqq.jpg\n",
            "..                       ...\n",
            "835  ieh807010_ieh807blq.jpg\n",
            "836  ieh807020_ieh807bmq.jpg\n",
            "837  ieh807020_ieh807bnq.jpg\n",
            "838  iehh02010_iehh02rjq.jpg\n",
            "839  iej501040_iej501snq.jpg\n",
            "\n",
            "[840 rows x 1 columns]\n"
          ]
        }
      ]
    },
    {
      "cell_type": "code",
      "metadata": {
        "id": "g9U4_VeGlkH5",
        "outputId": "d7eadc5e-2776-48ad-ad76-56480e007ebe"
      },
      "source": [
        "results = []\n",
        "for i in tqdm(range(len(data_satellites))):\n",
        "    row = data_satellites[i:i+1]\n",
        "    name = row[\"filename\"].to_numpy()[0].split(\".\")[0]\n",
        "    obs_id, raw_id = name.split(\"_\")[0], name.split(\"_\")[1]\n",
        "    data_row = data_WFC3_UVIS.loc[data_WFC3_UVIS[\"observation_id\"]==raw_id]\n",
        "    data_row[\"composite_id\"] = obs_id\n",
        "    results.append(data_row)\n",
        "data_result = pd.concat(results)\n",
        "data_result.to_csv(\"/content/drive/MyDrive/ESA/Results/processed/satellites_WFC3_processed_params.csv\")"
      ],
      "execution_count": null,
      "outputs": [
        {
          "name": "stderr",
          "output_type": "stream",
          "text": [
            "  0%|                                                                                          | 0/840 [00:00<?, ?it/s]<ipython-input-35-44bdfa9fa666>:7: SettingWithCopyWarning: \n",
            "A value is trying to be set on a copy of a slice from a DataFrame.\n",
            "Try using .loc[row_indexer,col_indexer] = value instead\n",
            "\n",
            "See the caveats in the documentation: https://pandas.pydata.org/pandas-docs/stable/user_guide/indexing.html#returning-a-view-versus-a-copy\n",
            "  data_row[\"composite_id\"] = obs_id\n",
            "100%|███████████████████████████████████████████████████████████████████████████████| 840/840 [00:03<00:00, 225.61it/s]\n"
          ]
        }
      ]
    },
    {
      "cell_type": "markdown",
      "metadata": {
        "id": "hE3_tOe2muiV"
      },
      "source": [
        "### WFC3/IR"
      ]
    },
    {
      "cell_type": "markdown",
      "metadata": {
        "id": "31inwXLjm66d"
      },
      "source": [
        "#### All Images"
      ]
    },
    {
      "cell_type": "code",
      "metadata": {
        "id": "Altc1iHDlkH8",
        "outputId": "38b1e2c7-ff26-401b-84e7-9a7cd586e742"
      },
      "source": [
        "#Get filenames after deleting\n",
        "filenames = glob.glob(\"/content/drive/MyDrive/ESA/Data/Hubble_Images/Raw/WFC3_IR_Comp_Raw/*\")\n",
        "for i in range(len(filenames)):\n",
        "    filenames[i] = filenames[i].replace(\"/content/drive/MyDrive/ESA/Data/Hubble_Images/Raw/WFC3_IR_Comp_Raw\\\\\",\"\")\n",
        "data_satellites = pd.DataFrame(filenames,columns=[\"filename\"])\n",
        "print(data_satellites)\n",
        "data_satellites.to_csv(\"/content/drive/MyDrive/ESA/Data/Hubble_Images/Raw/all_IR.csv\")"
      ],
      "execution_count": null,
      "outputs": [
        {
          "name": "stdout",
          "output_type": "stream",
          "text": [
            "                      filename\n",
            "0      i9zf01010_i9zf01dzq.jpg\n",
            "1      i9zf01010_i9zf01e0q.jpg\n",
            "2      i9zf01010_i9zf01e1q.jpg\n",
            "3      i9zf01010_i9zf01e3q.jpg\n",
            "4      i9zf02010_i9zf02z6q.jpg\n",
            "...                        ...\n",
            "84684  iejm02010_iejm02doq.jpg\n",
            "84685  iejm02020_iejm02dfq.jpg\n",
            "84686  iejm02020_iejm02djq.jpg\n",
            "84687  iejm02020_iejm02dmq.jpg\n",
            "84688  iejm02020_iejm02dqq.jpg\n",
            "\n",
            "[84689 rows x 1 columns]\n"
          ]
        }
      ]
    },
    {
      "cell_type": "code",
      "metadata": {
        "id": "swKC7DYdlkH8",
        "outputId": "89ed9cc2-4c31-421c-a13c-f869755ee0fd"
      },
      "source": [
        "results = []\n",
        "for i in tqdm(range(len(data_satellites))):\n",
        "    row = data_satellites[i:i+1]\n",
        "    name = row[\"filename\"].to_numpy()[0].split(\".\")[0]\n",
        "    obs_id, raw_id = name.split(\"_\")[0], name.split(\"_\")[1]\n",
        "    data_row = data_IR.loc[data_IR[\"observation_id\"]==raw_id]\n",
        "    data_row[\"composite_id\"] = obs_id\n",
        "    results.append(data_row)\n",
        "data_result = pd.concat(results)\n",
        "data_result.to_csv(\"/content/drive/MyDrive/ESA/Data/Hubble_Images/Raw/all_IR_params.csv\")"
      ],
      "execution_count": null,
      "outputs": [
        {
          "name": "stderr",
          "output_type": "stream",
          "text": [
            "  0%|                                                                                        | 0/84689 [00:00<?, ?it/s]<ipython-input-5-197c658a39bb>:7: SettingWithCopyWarning: \n",
            "A value is trying to be set on a copy of a slice from a DataFrame.\n",
            "Try using .loc[row_indexer,col_indexer] = value instead\n",
            "\n",
            "See the caveats in the documentation: https://pandas.pydata.org/pandas-docs/stable/user_guide/indexing.html#returning-a-view-versus-a-copy\n",
            "  data_row[\"composite_id\"] = obs_id\n",
            "100%|███████████████████████████████████████████████████████████████████████████| 84689/84689 [09:16<00:00, 152.10it/s]\n"
          ]
        }
      ]
    },
    {
      "cell_type": "markdown",
      "metadata": {
        "id": "787Js-_Am66e"
      },
      "source": [
        "#### Images with satellite trails"
      ]
    },
    {
      "cell_type": "code",
      "metadata": {
        "id": "Lk-0y3kNlkH4",
        "outputId": "e0210850-bb53-4399-f891-cd143f8596ad"
      },
      "source": [
        "#Get filenames after deleting\n",
        "filenames = glob.glob(\"/content/drive/MyDrive/ESA/Results/processed/IR/*\")\n",
        "for i in range(len(filenames)):\n",
        "    filenames[i] = filenames[i].replace(\"Results/processed/IR\\\\\",\"\")\n",
        "data_satellites = pd.DataFrame(filenames,columns=[\"filename\"])\n",
        "print(data_satellites)\n",
        "data_satellites.to_csv(\"/content/drive/MyDrive/ESA/Results/processed/satellites_IR_processed.csv\")"
      ],
      "execution_count": null,
      "outputs": [
        {
          "name": "stdout",
          "output_type": "stream",
          "text": [
            "                    filename\n",
            "0    i9zf03010_i9zf03gcq.jpg\n",
            "1    i9zf13010_i9zf13chq.jpg\n",
            "2    i9zg01010_i9zg01g2q.jpg\n",
            "3    ia1e27010_ia1e27kbq.jpg\n",
            "4    ia1l76010_ia1l76lqq.jpg\n",
            "..                       ...\n",
            "646  iedwa7010_iedwa7d7q.jpg\n",
            "647  iedwan010_iedwano6q.jpg\n",
            "648  ieel83020_ieel83afq.jpg\n",
            "649  ieer01010_ieer01g1q.jpg\n",
            "650  iejm02010_iejm02dkq.jpg\n",
            "\n",
            "[651 rows x 1 columns]\n"
          ]
        }
      ]
    },
    {
      "cell_type": "code",
      "metadata": {
        "id": "HpaphpEWlkH6",
        "outputId": "163c805b-f0f0-47b3-838f-848a5a1f7936"
      },
      "source": [
        "results = []\n",
        "for i in tqdm(range(len(data_satellites))):\n",
        "    row = data_satellites[i:i+1]\n",
        "    name = row[\"filename\"].to_numpy()[0].split(\".\")[0]\n",
        "    obs_id, raw_id = name.split(\"_\")[0], name.split(\"_\")[1]\n",
        "    data_row = data_IR.loc[data_IR[\"observation_id\"]==raw_id]\n",
        "    data_row[\"composite_id\"] = obs_id\n",
        "    results.append(data_row)\n",
        "data_result = pd.concat(results)\n",
        "data_result.to_csv(\"/content/drive/MyDrive/ESA/Results/processed/satellites_IR_processed_params.csv\")"
      ],
      "execution_count": null,
      "outputs": [
        {
          "name": "stderr",
          "output_type": "stream",
          "text": [
            "  0%|                                                                                          | 0/651 [00:00<?, ?it/s]<ipython-input-9-f4f3af4f0e87>:7: SettingWithCopyWarning: \n",
            "A value is trying to be set on a copy of a slice from a DataFrame.\n",
            "Try using .loc[row_indexer,col_indexer] = value instead\n",
            "\n",
            "See the caveats in the documentation: https://pandas.pydata.org/pandas-docs/stable/user_guide/indexing.html#returning-a-view-versus-a-copy\n",
            "  data_row[\"composite_id\"] = obs_id\n",
            "100%|███████████████████████████████████████████████████████████████████████████████| 651/651 [00:05<00:00, 118.39it/s]\n"
          ]
        }
      ]
    },
    {
      "cell_type": "markdown",
      "metadata": {
        "id": "YYRp88UHl-hw"
      },
      "source": [
        "## Analysis"
      ]
    },
    {
      "cell_type": "markdown",
      "metadata": {
        "id": "UES3D1sOmHa2"
      },
      "source": [
        "### Import of Data"
      ]
    },
    {
      "cell_type": "code",
      "metadata": {
        "id": "2XpQXmThlkHx"
      },
      "source": [
        "data_ACS = pd.read_csv(\"/content/drive/MyDrive/ESA/Data/Hubble_Images/Raw/all_ACS_params.csv\")\n",
        "data_WFC3_UVIS = pd.read_csv(\"/content/drive/MyDrive/ESA/Data/Hubble_Images/Raw/all_WFC3_params.csv\")\n",
        "data_IR = pd.read_csv(\"/content/drive/MyDrive/ESA/Data/Hubble_Images/Raw/all_IR_params_images.csv\")"
      ],
      "execution_count": 4,
      "outputs": []
    },
    {
      "cell_type": "code",
      "metadata": {
        "id": "bIjkIbLdlkHy"
      },
      "source": [
        "data_sats_ACS = pd.read_csv(\"/content/drive/MyDrive/ESA/Results/processed/satellites_ACS_processed_params.csv\")\n",
        "data_sats_WFC3_UVIS = pd.read_csv(\"/content/drive/MyDrive/ESA/Results/processed/satellites_WFC3_processed_params.csv\")\n",
        "data_sats_IR = pd.read_csv(\"/content/drive/MyDrive/ESA/Results/processed/satellites_IR_processed_params.csv\")"
      ],
      "execution_count": 3,
      "outputs": []
    },
    {
      "cell_type": "code",
      "metadata": {
        "id": "fakpT42YlkHy"
      },
      "source": [
        "bins_mjd = [52275,52640,53005,53371,53736,54101,54466,54832,55197,55562,55927,56293,56658,57023,57388,57754,58119,58484,58849,59215,59580]\n",
        "years = [2002,2003,2004,2005,2006,2007,2008,2009,2010,2011,2012,2013,2014,2015,2016,2017,2018,2019,2020,2021]"
      ],
      "execution_count": 5,
      "outputs": []
    },
    {
      "cell_type": "markdown",
      "metadata": {
        "id": "kBLLSgMvmJ3H"
      },
      "source": [
        "### Plots for different years"
      ]
    },
    {
      "cell_type": "markdown",
      "metadata": {
        "id": "uTSgUsYeu87M"
      },
      "source": [
        "#### All images\n",
        "\n"
      ]
    },
    {
      "cell_type": "code",
      "metadata": {
        "colab": {
          "base_uri": "https://localhost:8080/",
          "height": 365
        },
        "id": "WAbq2uu1vPca",
        "outputId": "e76a071c-6f40-48a5-c9cb-cc058a40ce76"
      },
      "source": [
        "#ACS\n",
        "hist_ACS = np.histogram(data_ACS[\"start_time_mjd\"],bins=bins_mjd)\n",
        "\n",
        "plt.figure(figsize=(10,5))\n",
        "plt.title(\"ACS - Raw images (individual exposures)\")\n",
        "plt.bar(years,hist_ACS[0],yerr=np.sqrt(hist_ACS[0]), width=0.5,capsize=3)\n",
        "plt.xlabel(\"Year\")\n",
        "plt.ylabel(\"Number of images\")\n",
        "plt.xticks(years,rotation=45)\n",
        "plt.savefig(\"/content/drive/MyDrive/ESA/Results/processed/plots/ACS_all_images_years.png\",dpi=100)"
      ],
      "execution_count": 36,
      "outputs": [
        {
          "output_type": "display_data",
          "data": {
            "image/png": "[encoded data removed]",
            "text/plain": [
              "<Figure size 720x360 with 1 Axes>"
            ]
          },
          "metadata": {
            "needs_background": "light"
          }
        }
      ]
    },
    {
      "cell_type": "code",
      "metadata": {
        "colab": {
          "base_uri": "https://localhost:8080/",
          "height": 310
        },
        "id": "K8UsrcelwbAV",
        "outputId": "98594887-0ff9-42fd-8e1b-f649cc247105"
      },
      "source": [
        "#WFC3/UVIS\n",
        "hist_WFC3 = np.histogram(data_WFC3_UVIS[\"start_time_mjd\"],bins=bins_mjd)\n",
        "\n",
        "plt.title(\"WFC3/UVIS - Raw images (individual exposures)\")\n",
        "plt.bar(years,hist_WFC3[0], width=0.5, yerr=np.sqrt(hist_WFC3[0]),capsize=3)\n",
        "plt.xlabel(\"Year\")\n",
        "plt.ylabel(\"Number of images\")\n",
        "plt.xticks(years[7:],rotation=45)\n",
        "plt.xlim(2008,2022)\n",
        "plt.savefig(\"/content/drive/MyDrive/ESA/Results/processed/plots/WFC3_all_images_years.png\",dpi=100)"
      ],
      "execution_count": 37,
      "outputs": [
        {
          "output_type": "display_data",
          "data": {
            "image/png": "[encoded data removed]",
            "text/plain": [
              "<Figure size 432x288 with 1 Axes>"
            ]
          },
          "metadata": {
            "needs_background": "light"
          }
        }
      ]
    },
    {
      "cell_type": "code",
      "metadata": {
        "colab": {
          "base_uri": "https://localhost:8080/",
          "height": 310
        },
        "id": "HmxP2i6uxcT-",
        "outputId": "a5b43b3a-7edb-4f67-b8da-5a2bae9d21f0"
      },
      "source": [
        "#WFC3/IR\n",
        "hist_IR = np.histogram(data_IR[\"start_time_mjd\"],bins=bins_mjd)\n",
        "\n",
        "plt.title(\"WFC3/IR - Raw images (individual exposures)\")\n",
        "plt.bar(years,hist_IR[0], width=0.5, yerr=np.sqrt(hist_IR[0]),capsize=3)\n",
        "plt.xlabel(\"Year\")\n",
        "plt.ylabel(\"Number of images\")\n",
        "plt.xticks(years[7:],rotation=45)\n",
        "plt.xlim(2008,2022)\n",
        "plt.savefig(\"/content/drive/MyDrive/ESA/Results/processed/plots/IR_all_images_years.png\",dpi=100)"
      ],
      "execution_count": 38,
      "outputs": [
        {
          "output_type": "display_data",
          "data": {
            "image/png": "[encoded data removed]",
            "text/plain": [
              "<Figure size 432x288 with 1 Axes>"
            ]
          },
          "metadata": {
            "needs_background": "light"
          }
        }
      ]
    },
    {
      "cell_type": "markdown",
      "metadata": {
        "id": "Ja-kRaoCvD5z"
      },
      "source": [
        "#### Images with satellite trails"
      ]
    },
    {
      "cell_type": "code",
      "metadata": {
        "colab": {
          "base_uri": "https://localhost:8080/",
          "height": 365
        },
        "id": "W0bs0yFGvyH4",
        "outputId": "f06d8759-fe4a-4156-92df-133de65d366e"
      },
      "source": [
        "#ACS\n",
        "hist_sats_ACS = np.histogram(data_sats_ACS[\"start_time_mjd\"],bins=bins_mjd)\n",
        "\n",
        "plt.figure(figsize=(10,5))\n",
        "plt.title(\"ACS - Raw images (individual exposures)\")\n",
        "plt.bar(years,hist_sats_ACS[0], width=0.5, yerr=np.sqrt(hist_sats_ACS[0]),capsize=3)\n",
        "plt.xlabel(\"Year\")\n",
        "plt.ylabel(\"Number of images with satellite trails\")\n",
        "plt.xticks(years,rotation=45)\n",
        "plt.savefig(\"/content/drive/MyDrive/ESA/Results/processed/plots/ACS_images_satellites_years.png\",dpi=100)"
      ],
      "execution_count": 39,
      "outputs": [
        {
          "output_type": "display_data",
          "data": {
            "image/png": "[encoded data removed]",
            "text/plain": [
              "<Figure size 720x360 with 1 Axes>"
            ]
          },
          "metadata": {
            "needs_background": "light"
          }
        }
      ]
    },
    {
      "cell_type": "code",
      "metadata": {
        "colab": {
          "base_uri": "https://localhost:8080/",
          "height": 310
        },
        "id": "oIbFMkoXxCL0",
        "outputId": "c7e81275-8d3c-4261-80cd-3ad3c3366795"
      },
      "source": [
        "#WFC3/UVIS\n",
        "hist_sats_WFC3 = np.histogram(data_sats_WFC3_UVIS[\"start_time_mjd\"],bins=bins_mjd)\n",
        "\n",
        "plt.title(\"WFC3/UVIS - Raw images (individual exposures)\")\n",
        "plt.bar(years,hist_sats_WFC3[0], width=0.5, yerr=np.sqrt(hist_sats_WFC3[0]),capsize=3)\n",
        "plt.xlabel(\"Year\")\n",
        "plt.ylabel(\"Number of images with satellite trails\")\n",
        "plt.xticks(years[7:],rotation=45)\n",
        "plt.xlim(2008,2022)\n",
        "plt.savefig(\"/content/drive/MyDrive/ESA/Results/processed/plots/WFC3_images_satellites_years.png\",dpi=100)"
      ],
      "execution_count": 40,
      "outputs": [
        {
          "output_type": "display_data",
          "data": {
            "image/png": "[encoded data removed]",
            "text/plain": [
              "<Figure size 432x288 with 1 Axes>"
            ]
          },
          "metadata": {
            "needs_background": "light"
          }
        }
      ]
    },
    {
      "cell_type": "code",
      "metadata": {
        "colab": {
          "base_uri": "https://localhost:8080/",
          "height": 310
        },
        "id": "030iBeMzxqJy",
        "outputId": "c8d81867-09dc-42eb-e80e-22a7e733ab3f"
      },
      "source": [
        "#WFC3/IR\n",
        "hist_sats_IR = np.histogram(data_sats_IR[\"start_time_mjd\"],bins=bins_mjd)\n",
        "\n",
        "plt.title(\"WFC3/IR - Raw images (individual exposures)\")\n",
        "plt.bar(years,hist_sats_IR[0], width=0.5, yerr=np.sqrt(hist_sats_IR[0]),capsize=3)\n",
        "plt.xlabel(\"Year\")\n",
        "plt.ylabel(\"Number of images with satellite trails\")\n",
        "plt.xticks(years[7:],rotation=45)\n",
        "plt.xlim(2008,2022)\n",
        "plt.savefig(\"/content/drive/MyDrive/ESA/Results/processed/plots/IR_images_satellites_years.png\",dpi=100)"
      ],
      "execution_count": 41,
      "outputs": [
        {
          "output_type": "display_data",
          "data": {
            "image/png": "[encoded data removed]",
            "text/plain": [
              "<Figure size 432x288 with 1 Axes>"
            ]
          },
          "metadata": {
            "needs_background": "light"
          }
        }
      ]
    },
    {
      "cell_type": "markdown",
      "metadata": {
        "id": "jdzLFeAAvILq"
      },
      "source": [
        "#### Fraction of images"
      ]
    },
    {
      "cell_type": "code",
      "metadata": {
        "colab": {
          "base_uri": "https://localhost:8080/",
          "height": 438
        },
        "id": "-R1sBkj_lkHz",
        "outputId": "3369ba15-8942-41be-a0f2-8c94fec67752"
      },
      "source": [
        "#ACS\n",
        "fraction_ACS = hist_sats_ACS[0]/hist_ACS[0]\n",
        "u_fraction_ACS = np.sqrt(hist_sats_ACS[0]/(hist_ACS[0]**2)+(hist_sats_ACS[0]**2/(hist_ACS[0]**3)))\n",
        "\n",
        "plt.figure(figsize=(10,5))\n",
        "plt.title(\"ACS - Raw images (individual exposures)\")\n",
        "plt.bar(years,fraction_ACS, width=0.5, yerr=u_fraction_ACS,capsize=3)\n",
        "plt.xlabel(\"Year\")\n",
        "plt.ylabel(\"Fraction of images with satellite trails\")\n",
        "plt.xticks(years,rotation=45)\n",
        "plt.savefig(\"/content/drive/MyDrive/ESA/Results/processed/plots/ACS_fraction_years.png\",dpi=100)"
      ],
      "execution_count": 42,
      "outputs": [
        {
          "output_type": "stream",
          "name": "stderr",
          "text": [
            "/usr/local/lib/python3.7/dist-packages/ipykernel_launcher.py:2: RuntimeWarning: invalid value encountered in true_divide\n",
            "  \n",
            "/usr/local/lib/python3.7/dist-packages/ipykernel_launcher.py:3: RuntimeWarning: invalid value encountered in true_divide\n",
            "  This is separate from the ipykernel package so we can avoid doing imports until\n"
          ]
        },
        {
          "output_type": "display_data",
          "data": {
            "image/png": "[encoded data removed]",
            "text/plain": [
              "<Figure size 720x360 with 1 Axes>"
            ]
          },
          "metadata": {
            "needs_background": "light"
          }
        }
      ]
    },
    {
      "cell_type": "code",
      "metadata": {
        "scrolled": false,
        "colab": {
          "base_uri": "https://localhost:8080/",
          "height": 383
        },
        "id": "H9QEDBS9lkH0",
        "outputId": "ddbdf5cf-d34d-4e44-de8d-7d55926882e0"
      },
      "source": [
        "#WFC3/UVIS\n",
        "fraction_WFC3 = hist_sats_WFC3[0]/hist_WFC3[0]\n",
        "u_fraction_WFC3 = np.sqrt(hist_sats_WFC3[0]/(hist_WFC3[0]**2)+(hist_sats_WFC3[0]**2/(hist_WFC3[0]**3)))\n",
        "\n",
        "plt.title(\"WFC3/UVIS - Raw images (individual exposures)\")\n",
        "plt.bar(years,fraction_WFC3, width=0.5, yerr=u_fraction_WFC3,capsize=3)\n",
        "plt.xlabel(\"Year\")\n",
        "plt.ylabel(\"Fraction of images\")\n",
        "plt.xticks(years[7:],rotation=45)\n",
        "plt.savefig(\"/content/drive/MyDrive/ESA/Results/processed/plots/WFC3_fraction_years.png\",dpi=100)"
      ],
      "execution_count": 43,
      "outputs": [
        {
          "output_type": "stream",
          "name": "stderr",
          "text": [
            "/usr/local/lib/python3.7/dist-packages/ipykernel_launcher.py:2: RuntimeWarning: invalid value encountered in true_divide\n",
            "  \n",
            "/usr/local/lib/python3.7/dist-packages/ipykernel_launcher.py:3: RuntimeWarning: invalid value encountered in true_divide\n",
            "  This is separate from the ipykernel package so we can avoid doing imports until\n"
          ]
        },
        {
          "output_type": "display_data",
          "data": {
            "image/png": "[encoded data removed]",
            "text/plain": [
              "<Figure size 432x288 with 1 Axes>"
            ]
          },
          "metadata": {
            "needs_background": "light"
          }
        }
      ]
    },
    {
      "cell_type": "code",
      "metadata": {
        "scrolled": false,
        "colab": {
          "base_uri": "https://localhost:8080/",
          "height": 383
        },
        "id": "zB9y_9nNlkH1",
        "outputId": "681c286f-6bdb-43a1-84ae-d32998378969"
      },
      "source": [
        "#WFC3/IR\n",
        "fraction_IR = hist_sats_IR[0]/hist_IR[0]\n",
        "u_fraction_IR = np.sqrt(hist_sats_IR[0]/(hist_IR[0]**2)+(hist_sats_IR[0]**2/(hist_IR[0]**3)))\n",
        "\n",
        "plt.title(\"WFC3/IR - Raw images (individual exposures)\")\n",
        "plt.bar(years,fraction_IR, width=0.5, yerr=u_fraction_IR,capsize=3)\n",
        "plt.xlabel(\"Year\")\n",
        "plt.ylabel(\"Fraction of images\")\n",
        "plt.xticks(years[7:],rotation=45)\n",
        "plt.savefig(\"/content/drive/MyDrive/ESA/Results/processed/plots/IR_fraction_years.png\",dpi=100)"
      ],
      "execution_count": 44,
      "outputs": [
        {
          "output_type": "stream",
          "name": "stderr",
          "text": [
            "/usr/local/lib/python3.7/dist-packages/ipykernel_launcher.py:2: RuntimeWarning: invalid value encountered in true_divide\n",
            "  \n",
            "/usr/local/lib/python3.7/dist-packages/ipykernel_launcher.py:3: RuntimeWarning: invalid value encountered in true_divide\n",
            "  This is separate from the ipykernel package so we can avoid doing imports until\n"
          ]
        },
        {
          "output_type": "display_data",
          "data": {
            "image/png": "[encoded data removed]",
            "text/plain": [
              "<Figure size 432x288 with 1 Axes>"
            ]
          },
          "metadata": {
            "needs_background": "light"
          }
        }
      ]
    },
    {
      "cell_type": "code",
      "metadata": {
        "id": "h2v_QUTFu2RR"
      },
      "source": [
        ""
      ],
      "execution_count": null,
      "outputs": []
    }
  ]
}